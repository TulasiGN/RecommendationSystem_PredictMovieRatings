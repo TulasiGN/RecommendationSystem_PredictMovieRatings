{
 "cells": [
  {
   "cell_type": "markdown",
   "metadata": {
    "id": "YeM0ZBWUVtXR"
   },
   "source": [
    "# <font color='red'>SGD Algorithm to predict movie ratings</font>"
   ]
  },
  {
   "cell_type": "markdown",
   "metadata": {
    "id": "73dhFsT0WSSB"
   },
   "source": [
    "## <font color='red'>Task 1</font>"
   ]
  },
  {
   "cell_type": "markdown",
   "metadata": {
    "id": "HY0frS6EWaEV"
   },
   "source": [
    "<font color='red'><b>Predict the rating for a given (user_id, movie_id) pair </b> </font>\n"
   ]
  },
  {
   "cell_type": "code",
   "execution_count": 299,
   "metadata": {
    "id": "BAlYehB84hnx"
   },
   "outputs": [],
   "source": [
    "import pandas as pd\n",
    "from sklearn.utils.extmath import randomized_svd\n",
    "import numpy as np \n",
    "from matplotlib import pyplot as plt\n",
    "import numpy as np\n",
    "from sklearn.metrics import confusion_matrix\n",
    "import seaborn as sns\n",
    "from sklearn.linear_model import LogisticRegression\n",
    "from scipy.sparse import csr_matrix\n",
    "from sklearn.metrics import mean_squared_error\n",
    "\n"
   ]
  },
  {
   "cell_type": "markdown",
   "metadata": {
    "id": "iVJo-3njBQLf"
   },
   "source": [
    "<font color='red'> Reading the csv file </font>"
   ]
  },
  {
   "cell_type": "code",
   "execution_count": 300,
   "metadata": {
    "colab": {
     "base_uri": "https://localhost:8080/"
    },
    "id": "hEhmfRD637EW",
    "outputId": "4901e7cf-ddc0-4563-f303-9a6f59985e9e"
   },
   "outputs": [
    {
     "name": "stdout",
     "output_type": "stream",
     "text": [
      "Drive already mounted at /content/drive; to attempt to forcibly remount, call drive.mount(\"/content/drive\", force_remount=True).\n"
     ]
    }
   ],
   "source": [
    "from google.colab import drive\n",
    "drive.mount('/content/drive')\n",
    "path = '/content/drive/My Drive/csv files/ratings_train.csv'\n",
    "path1 = '/content/drive/My Drive/csv files/user_info.csv.txt'\n",
    "\n"
   ]
  },
  {
   "cell_type": "code",
   "execution_count": 301,
   "metadata": {
    "colab": {
     "base_uri": "https://localhost:8080/",
     "height": 204
    },
    "id": "B5TgLVNP4sDy",
    "outputId": "27f55c9f-d9f7-4b00-a889-2dd601be4be0"
   },
   "outputs": [
    {
     "data": {
      "text/html": [
       "<div>\n",
       "<style scoped>\n",
       "    .dataframe tbody tr th:only-of-type {\n",
       "        vertical-align: middle;\n",
       "    }\n",
       "\n",
       "    .dataframe tbody tr th {\n",
       "        vertical-align: top;\n",
       "    }\n",
       "\n",
       "    .dataframe thead th {\n",
       "        text-align: right;\n",
       "    }\n",
       "</style>\n",
       "<table border=\"1\" class=\"dataframe\">\n",
       "  <thead>\n",
       "    <tr style=\"text-align: right;\">\n",
       "      <th></th>\n",
       "      <th>user_id</th>\n",
       "      <th>item_id</th>\n",
       "      <th>rating</th>\n",
       "    </tr>\n",
       "  </thead>\n",
       "  <tbody>\n",
       "    <tr>\n",
       "      <th>0</th>\n",
       "      <td>772</td>\n",
       "      <td>36</td>\n",
       "      <td>3</td>\n",
       "    </tr>\n",
       "    <tr>\n",
       "      <th>1</th>\n",
       "      <td>471</td>\n",
       "      <td>228</td>\n",
       "      <td>5</td>\n",
       "    </tr>\n",
       "    <tr>\n",
       "      <th>2</th>\n",
       "      <td>641</td>\n",
       "      <td>401</td>\n",
       "      <td>4</td>\n",
       "    </tr>\n",
       "    <tr>\n",
       "      <th>3</th>\n",
       "      <td>312</td>\n",
       "      <td>98</td>\n",
       "      <td>4</td>\n",
       "    </tr>\n",
       "    <tr>\n",
       "      <th>4</th>\n",
       "      <td>58</td>\n",
       "      <td>504</td>\n",
       "      <td>5</td>\n",
       "    </tr>\n",
       "  </tbody>\n",
       "</table>\n",
       "</div>"
      ],
      "text/plain": [
       "   user_id  item_id  rating\n",
       "0      772       36       3\n",
       "1      471      228       5\n",
       "2      641      401       4\n",
       "3      312       98       4\n",
       "4       58      504       5"
      ]
     },
     "execution_count": 301,
     "metadata": {
      "tags": []
     },
     "output_type": "execute_result"
    }
   ],
   "source": [
    "#loading the data\n",
    "data = pd.read_csv(path)\n",
    "user_info = pd.read_csv(path1)\n",
    "\n",
    "data.head(5)"
   ]
  },
  {
   "cell_type": "code",
   "execution_count": 302,
   "metadata": {
    "colab": {
     "base_uri": "https://localhost:8080/"
    },
    "id": "66ibGJ74hCde",
    "outputId": "f22d52fb-6b98-447e-d2d2-ecb94e5ccccd"
   },
   "outputs": [
    {
     "data": {
      "text/plain": [
       "(89992, 3)"
      ]
     },
     "execution_count": 302,
     "metadata": {
      "tags": []
     },
     "output_type": "execute_result"
    }
   ],
   "source": [
    "data.shape"
   ]
  },
  {
   "cell_type": "code",
   "execution_count": 303,
   "metadata": {
    "colab": {
     "base_uri": "https://localhost:8080/"
    },
    "id": "yc1UGaTqgvm4",
    "outputId": "06a5c695-3497-4c63-d404-f708e55c2f59"
   },
   "outputs": [
    {
     "name": "stdout",
     "output_type": "stream",
     "text": [
      "943 1662\n"
     ]
    }
   ],
   "source": [
    "N=(len(data['user_id'].unique()))\n",
    "M=(len(data['item_id'].unique()))\n",
    "print(N,M)\n"
   ]
  },
  {
   "cell_type": "markdown",
   "metadata": {
    "id": "mvB8SDS_hW03"
   },
   "source": [
    "<font color='red'>Create your adjacency matrix </font>"
   ]
  },
  {
   "cell_type": "code",
   "execution_count": 304,
   "metadata": {
    "colab": {
     "base_uri": "https://localhost:8080/"
    },
    "id": "t44MNT40hZQW",
    "outputId": "c8c630d0-726f-490a-9f36-94f9381adba7"
   },
   "outputs": [
    {
     "name": "stdout",
     "output_type": "stream",
     "text": [
      "[[0. 0. 0. ... 0. 0. 0.]\n",
      " [0. 0. 0. ... 0. 0. 0.]\n",
      " [0. 0. 0. ... 0. 0. 0.]\n",
      " ...\n",
      " [0. 0. 0. ... 0. 0. 0.]\n",
      " [0. 0. 0. ... 0. 0. 0.]\n",
      " [0. 0. 0. ... 0. 0. 0.]]\n",
      "--------After Filling it weights/ratings--------\n",
      "[[5. 0. 4. ... 0. 0. 0.]\n",
      " [4. 0. 0. ... 0. 0. 0.]\n",
      " [0. 0. 0. ... 0. 0. 0.]\n",
      " ...\n",
      " [0. 0. 0. ... 0. 0. 0.]\n",
      " [0. 0. 0. ... 0. 0. 0.]\n",
      " [0. 5. 0. ... 0. 0. 0.]]\n"
     ]
    }
   ],
   "source": [
    "#creating a matrix with all zeroes\n",
    "a_matrix = np.zeros(shape=(943,1681))\n",
    "print(a_matrix)\n",
    "\n",
    "#Filling the matrix  based on the rating weights from Ratings table\n",
    "for ind in data.index:     \n",
    "     rowNo=data['user_id'][ind]\n",
    "     colNo=data['item_id'][ind]\n",
    "     wt=data['rating'][ind]\n",
    "     a_matrix[rowNo][colNo]=wt\n",
    "print(\"--------After Filling it weights/ratings--------\")\n",
    "print(a_matrix)\n"
   ]
  },
  {
   "cell_type": "code",
   "execution_count": 305,
   "metadata": {
    "colab": {
     "base_uri": "https://localhost:8080/"
    },
    "id": "adnRJn-aqcNU",
    "outputId": "24792ccb-bcc5-4b5d-8b3a-0e4526be706a"
   },
   "outputs": [
    {
     "name": "stdout",
     "output_type": "stream",
     "text": [
      "3.0\n",
      "5.0\n",
      "4.0\n"
     ]
    }
   ],
   "source": [
    "#Testing the values in the matrix\n",
    "print(a_matrix[772][36])\n",
    "print(a_matrix[58][504])\n",
    "print(a_matrix[372][1077])\n"
   ]
  },
  {
   "cell_type": "code",
   "execution_count": 306,
   "metadata": {
    "colab": {
     "base_uri": "https://localhost:8080/"
    },
    "id": "-mCgC0WbhZTO",
    "outputId": "7e2db268-f147-49a9-8bd4-ac9e81112ca2"
   },
   "outputs": [
    {
     "name": "stdout",
     "output_type": "stream",
     "text": [
      "(943, 1681)\n",
      "  (0, 0)\t5.0\n",
      "  (0, 2)\t4.0\n",
      "  (0, 3)\t3.0\n",
      "  (0, 4)\t3.0\n",
      "  (0, 5)\t5.0\n",
      "  (0, 6)\t4.0\n",
      "  (0, 7)\t1.0\n",
      "  (0, 8)\t5.0\n",
      "  (0, 9)\t3.0\n",
      "  (0, 10)\t2.0\n",
      "  (0, 11)\t5.0\n",
      "  (0, 12)\t5.0\n",
      "  (0, 13)\t5.0\n",
      "  (0, 14)\t5.0\n",
      "  (0, 15)\t5.0\n",
      "  (0, 16)\t3.0\n",
      "  (0, 17)\t4.0\n",
      "  (0, 18)\t5.0\n",
      "  (0, 19)\t4.0\n",
      "  (0, 20)\t1.0\n",
      "  (0, 21)\t4.0\n",
      "  (0, 22)\t4.0\n",
      "  (0, 23)\t3.0\n",
      "  (0, 24)\t4.0\n",
      "  (0, 25)\t3.0\n",
      "  :\t:\n",
      "  (942, 720)\t3.0\n",
      "  (942, 722)\t1.0\n",
      "  (942, 730)\t4.0\n",
      "  (942, 737)\t4.0\n",
      "  (942, 761)\t4.0\n",
      "  (942, 763)\t3.0\n",
      "  (942, 783)\t2.0\n",
      "  (942, 792)\t3.0\n",
      "  (942, 806)\t4.0\n",
      "  (942, 814)\t4.0\n",
      "  (942, 822)\t4.0\n",
      "  (942, 823)\t3.0\n",
      "  (942, 829)\t2.0\n",
      "  (942, 838)\t4.0\n",
      "  (942, 926)\t5.0\n",
      "  (942, 939)\t1.0\n",
      "  (942, 941)\t5.0\n",
      "  (942, 1009)\t2.0\n",
      "  (942, 1042)\t3.0\n",
      "  (942, 1045)\t2.0\n",
      "  (942, 1065)\t2.0\n",
      "  (942, 1072)\t4.0\n",
      "  (942, 1186)\t3.0\n",
      "  (942, 1226)\t3.0\n",
      "  (942, 1328)\t3.0\n"
     ]
    }
   ],
   "source": [
    "#Generating the adjacency matrix from the a_matrix\n",
    "adjacency_matrix = csr_matrix(a_matrix)   # Here's the initialization of the sparse matrix.\n",
    "print(adjacency_matrix.shape)\n",
    "print(adjacency_matrix)"
   ]
  },
  {
   "cell_type": "code",
   "execution_count": 307,
   "metadata": {
    "id": "6wIaUAb6w2Pa"
   },
   "outputs": [],
   "source": [
    "#assigning dimensions for b_i and c_j based on its adjacency matrix shape\n",
    "N=943\n",
    "M=1681"
   ]
  },
  {
   "cell_type": "markdown",
   "metadata": {
    "id": "4acJD4ujEtD6"
   },
   "source": [
    "<font color='cyan'>Grader function - 1</font>"
   ]
  },
  {
   "cell_type": "code",
   "execution_count": 308,
   "metadata": {
    "colab": {
     "base_uri": "https://localhost:8080/"
    },
    "id": "2QuTzFBREsDV",
    "outputId": "823ec37d-1d24-49fd-ef64-f6d943796c3a"
   },
   "outputs": [
    {
     "data": {
      "text/plain": [
       "True"
      ]
     },
     "execution_count": 308,
     "metadata": {
      "tags": []
     },
     "output_type": "execute_result"
    }
   ],
   "source": [
    "def grader_matrix(matrix):\n",
    "  assert(matrix.shape==(943,1681))\n",
    "  return True\n",
    "grader_matrix(adjacency_matrix)"
   ]
  },
  {
   "cell_type": "markdown",
   "metadata": {
    "id": "gXDf1RCUBsYN"
   },
   "source": [
    "<font color='red'> SVD decompostion</font>"
   ]
  },
  {
   "cell_type": "markdown",
   "metadata": {
    "id": "ePDgwALQEJoB"
   },
   "source": [
    "<font color='red'>Write your code for SVD decompostion</font>"
   ]
  },
  {
   "cell_type": "code",
   "execution_count": 309,
   "metadata": {
    "colab": {
     "base_uri": "https://localhost:8080/"
    },
    "id": "ZYnsKBmFEIg3",
    "outputId": "3b6f2255-198e-470a-8202-bb3b2055784c"
   },
   "outputs": [
    {
     "name": "stdout",
     "output_type": "stream",
     "text": [
      "(943, 3)\n",
      "(3,)\n",
      "(1681, 3)\n",
      "[577.35728878 221.78450825 198.24306937]\n"
     ]
    }
   ],
   "source": [
    "# Using adjacency_matrix as matrix for SVD decompostion\n",
    "# Using  n_components as 3 as my choice\n",
    "\n",
    "U, Sigma, VT = randomized_svd(adjacency_matrix, n_components=3,n_iter=5, random_state=None)\n",
    "print(U.shape)\n",
    "print(Sigma.shape)\n",
    "print(VT.T.shape)\n",
    "print(Sigma)"
   ]
  },
  {
   "cell_type": "markdown",
   "metadata": {
    "id": "83Vh4NoO_JyU"
   },
   "source": [
    "<font color='red'>Compute mean of ratings</font>"
   ]
  },
  {
   "cell_type": "code",
   "execution_count": 310,
   "metadata": {
    "id": "cBHuCn2QSEnl"
   },
   "outputs": [],
   "source": [
    "def m_u(ratings):\n",
    "    '''In this function, we will compute mean for all the ratings'''\n",
    "    # you can use mean() function to do this\n",
    "    # check this (https://pandas.pydata.org/pandas-docs/stable/reference/api/pandas.DataFrame.mean.html) link for more details.\n",
    "    ratings_mean = data[\"rating\"].mean()\n",
    "   \n",
    "    return ratings_mean"
   ]
  },
  {
   "cell_type": "code",
   "execution_count": 311,
   "metadata": {
    "colab": {
     "base_uri": "https://localhost:8080/"
    },
    "id": "iu1nn-1x3ebp",
    "outputId": "835b34ff-f539-4201-aa89-803ce5322140"
   },
   "outputs": [
    {
     "name": "stdout",
     "output_type": "stream",
     "text": [
      "3.529480398257623\n"
     ]
    }
   ],
   "source": [
    "mu=m_u(data['rating'])\n",
    "print(mu)"
   ]
  },
  {
   "cell_type": "markdown",
   "metadata": {
    "id": "76ooYQIdG_tf"
   },
   "source": [
    "<font color='cyan'>Grader function -2 </font>"
   ]
  },
  {
   "cell_type": "code",
   "execution_count": 312,
   "metadata": {
    "colab": {
     "base_uri": "https://localhost:8080/"
    },
    "id": "TZy1m67oG9r9",
    "outputId": "f4f0d258-0d23-40cf-ba27-a3bf8bf64c31"
   },
   "outputs": [
    {
     "data": {
      "text/plain": [
       "True"
      ]
     },
     "execution_count": 312,
     "metadata": {
      "tags": []
     },
     "output_type": "execute_result"
    }
   ],
   "source": [
    "def grader_mean(mu):\n",
    "  assert(np.round(mu,3)==3.529)\n",
    "  return True\n",
    "mu=m_u(data['rating'])\n",
    "grader_mean(mu)"
   ]
  },
  {
   "cell_type": "markdown",
   "metadata": {
    "id": "qSvAW1X94g3G"
   },
   "source": [
    "<font color='red'>Initialize $B_{i}$ and $C_{j}$"
   ]
  },
  {
   "cell_type": "markdown",
   "metadata": {
    "id": "qsOl-4xq5aUG"
   },
   "source": [
    "Hint : Number of rows of adjacent matrix corresponds to user dimensions($B_{i}$), number of columns of adjacent matrix corresponds to movie dimensions ($C_{j}$)"
   ]
  },
  {
   "cell_type": "code",
   "execution_count": 313,
   "metadata": {
    "id": "AyEJqPka4lBW"
   },
   "outputs": [],
   "source": [
    "def initialize(dim):\n",
    "    '''In this function, we will initialize bias value 'B' and 'C'.'''\n",
    "    # initalize the value to zeros \n",
    "\n",
    "    vec= np.zeros(shape=(dim))\n",
    "    # return output as a list of zeros   \n",
    "\n",
    "    return vec"
   ]
  },
  {
   "cell_type": "code",
   "execution_count": 314,
   "metadata": {
    "colab": {
     "base_uri": "https://localhost:8080/"
    },
    "id": "Nlae9QAQ43Xz",
    "outputId": "a4c707cb-0e5b-4be8-b35c-4cbfa465abdf"
   },
   "outputs": [
    {
     "name": "stdout",
     "output_type": "stream",
     "text": [
      "(943,)\n",
      "[0. 0. 0. 0. 0. 0. 0. 0. 0. 0. 0. 0. 0. 0. 0. 0. 0. 0. 0. 0. 0. 0. 0. 0.\n",
      " 0. 0. 0. 0. 0. 0. 0. 0. 0. 0. 0. 0. 0. 0. 0. 0. 0. 0. 0. 0. 0. 0. 0. 0.\n",
      " 0. 0. 0. 0. 0. 0. 0. 0. 0. 0. 0. 0. 0. 0. 0. 0. 0. 0. 0. 0. 0. 0. 0. 0.\n",
      " 0. 0. 0. 0. 0. 0. 0. 0. 0. 0. 0. 0. 0. 0. 0. 0. 0. 0. 0. 0. 0. 0. 0. 0.\n",
      " 0. 0. 0. 0. 0. 0. 0. 0. 0. 0. 0. 0. 0. 0. 0. 0. 0. 0. 0. 0. 0. 0. 0. 0.\n",
      " 0. 0. 0. 0. 0. 0. 0. 0. 0. 0. 0. 0. 0. 0. 0. 0. 0. 0. 0. 0. 0. 0. 0. 0.\n",
      " 0. 0. 0. 0. 0. 0. 0. 0. 0. 0. 0. 0. 0. 0. 0. 0. 0. 0. 0. 0. 0. 0. 0. 0.\n",
      " 0. 0. 0. 0. 0. 0. 0. 0. 0. 0. 0. 0. 0. 0. 0. 0. 0. 0. 0. 0. 0. 0. 0. 0.\n",
      " 0. 0. 0. 0. 0. 0. 0. 0. 0. 0. 0. 0. 0. 0. 0. 0. 0. 0. 0. 0. 0. 0. 0. 0.\n",
      " 0. 0. 0. 0. 0. 0. 0. 0. 0. 0. 0. 0. 0. 0. 0. 0. 0. 0. 0. 0. 0. 0. 0. 0.\n",
      " 0. 0. 0. 0. 0. 0. 0. 0. 0. 0. 0. 0. 0. 0. 0. 0. 0. 0. 0. 0. 0. 0. 0. 0.\n",
      " 0. 0. 0. 0. 0. 0. 0. 0. 0. 0. 0. 0. 0. 0. 0. 0. 0. 0. 0. 0. 0. 0. 0. 0.\n",
      " 0. 0. 0. 0. 0. 0. 0. 0. 0. 0. 0. 0. 0. 0. 0. 0. 0. 0. 0. 0. 0. 0. 0. 0.\n",
      " 0. 0. 0. 0. 0. 0. 0. 0. 0. 0. 0. 0. 0. 0. 0. 0. 0. 0. 0. 0. 0. 0. 0. 0.\n",
      " 0. 0. 0. 0. 0. 0. 0. 0. 0. 0. 0. 0. 0. 0. 0. 0. 0. 0. 0. 0. 0. 0. 0. 0.\n",
      " 0. 0. 0. 0. 0. 0. 0. 0. 0. 0. 0. 0. 0. 0. 0. 0. 0. 0. 0. 0. 0. 0. 0. 0.\n",
      " 0. 0. 0. 0. 0. 0. 0. 0. 0. 0. 0. 0. 0. 0. 0. 0. 0. 0. 0. 0. 0. 0. 0. 0.\n",
      " 0. 0. 0. 0. 0. 0. 0. 0. 0. 0. 0. 0. 0. 0. 0. 0. 0. 0. 0. 0. 0. 0. 0. 0.\n",
      " 0. 0. 0. 0. 0. 0. 0. 0. 0. 0. 0. 0. 0. 0. 0. 0. 0. 0. 0. 0. 0. 0. 0. 0.\n",
      " 0. 0. 0. 0. 0. 0. 0. 0. 0. 0. 0. 0. 0. 0. 0. 0. 0. 0. 0. 0. 0. 0. 0. 0.\n",
      " 0. 0. 0. 0. 0. 0. 0. 0. 0. 0. 0. 0. 0. 0. 0. 0. 0. 0. 0. 0. 0. 0. 0. 0.\n",
      " 0. 0. 0. 0. 0. 0. 0. 0. 0. 0. 0. 0. 0. 0. 0. 0. 0. 0. 0. 0. 0. 0. 0. 0.\n",
      " 0. 0. 0. 0. 0. 0. 0. 0. 0. 0. 0. 0. 0. 0. 0. 0. 0. 0. 0. 0. 0. 0. 0. 0.\n",
      " 0. 0. 0. 0. 0. 0. 0. 0. 0. 0. 0. 0. 0. 0. 0. 0. 0. 0. 0. 0. 0. 0. 0. 0.\n",
      " 0. 0. 0. 0. 0. 0. 0. 0. 0. 0. 0. 0. 0. 0. 0. 0. 0. 0. 0. 0. 0. 0. 0. 0.\n",
      " 0. 0. 0. 0. 0. 0. 0. 0. 0. 0. 0. 0. 0. 0. 0. 0. 0. 0. 0. 0. 0. 0. 0. 0.\n",
      " 0. 0. 0. 0. 0. 0. 0. 0. 0. 0. 0. 0. 0. 0. 0. 0. 0. 0. 0. 0. 0. 0. 0. 0.\n",
      " 0. 0. 0. 0. 0. 0. 0. 0. 0. 0. 0. 0. 0. 0. 0. 0. 0. 0. 0. 0. 0. 0. 0. 0.\n",
      " 0. 0. 0. 0. 0. 0. 0. 0. 0. 0. 0. 0. 0. 0. 0. 0. 0. 0. 0. 0. 0. 0. 0. 0.\n",
      " 0. 0. 0. 0. 0. 0. 0. 0. 0. 0. 0. 0. 0. 0. 0. 0. 0. 0. 0. 0. 0. 0. 0. 0.\n",
      " 0. 0. 0. 0. 0. 0. 0. 0. 0. 0. 0. 0. 0. 0. 0. 0. 0. 0. 0. 0. 0. 0. 0. 0.\n",
      " 0. 0. 0. 0. 0. 0. 0. 0. 0. 0. 0. 0. 0. 0. 0. 0. 0. 0. 0. 0. 0. 0. 0. 0.\n",
      " 0. 0. 0. 0. 0. 0. 0. 0. 0. 0. 0. 0. 0. 0. 0. 0. 0. 0. 0. 0. 0. 0. 0. 0.\n",
      " 0. 0. 0. 0. 0. 0. 0. 0. 0. 0. 0. 0. 0. 0. 0. 0. 0. 0. 0. 0. 0. 0. 0. 0.\n",
      " 0. 0. 0. 0. 0. 0. 0. 0. 0. 0. 0. 0. 0. 0. 0. 0. 0. 0. 0. 0. 0. 0. 0. 0.\n",
      " 0. 0. 0. 0. 0. 0. 0. 0. 0. 0. 0. 0. 0. 0. 0. 0. 0. 0. 0. 0. 0. 0. 0. 0.\n",
      " 0. 0. 0. 0. 0. 0. 0. 0. 0. 0. 0. 0. 0. 0. 0. 0. 0. 0. 0. 0. 0. 0. 0. 0.\n",
      " 0. 0. 0. 0. 0. 0. 0. 0. 0. 0. 0. 0. 0. 0. 0. 0. 0. 0. 0. 0. 0. 0. 0. 0.\n",
      " 0. 0. 0. 0. 0. 0. 0. 0. 0. 0. 0. 0. 0. 0. 0. 0. 0. 0. 0. 0. 0. 0. 0. 0.\n",
      " 0. 0. 0. 0. 0. 0. 0.]\n"
     ]
    }
   ],
   "source": [
    "dim=N # give the number of dimensions for b_i (Here b_i corresponds to users)\n",
    "b_i=initialize(dim)\n",
    "print(b_i.shape)\n",
    "print(b_i)"
   ]
  },
  {
   "cell_type": "code",
   "execution_count": 315,
   "metadata": {
    "colab": {
     "base_uri": "https://localhost:8080/"
    },
    "id": "rwuopn4HoEbP",
    "outputId": "19e2a531-4c97-4987-ef34-38120082729d"
   },
   "outputs": [
    {
     "name": "stdout",
     "output_type": "stream",
     "text": [
      "(1681,)\n",
      "[0. 0. 0. ... 0. 0. 0.]\n"
     ]
    }
   ],
   "source": [
    "dim=M # give the number of dimensions for c_j (Here c_j corresponds to movies)\n",
    "c_j=initialize(dim)\n",
    "print(c_j.shape)\n",
    "print(c_j)"
   ]
  },
  {
   "cell_type": "markdown",
   "metadata": {
    "id": "nfPJ3_h6JIkI"
   },
   "source": [
    "<font color='cyan'>Grader function -3 </font>"
   ]
  },
  {
   "cell_type": "code",
   "execution_count": 316,
   "metadata": {
    "colab": {
     "base_uri": "https://localhost:8080/"
    },
    "id": "dQhiNjw0Hz4m",
    "outputId": "3e84b137-2226-400e-89a5-5505f636032a"
   },
   "outputs": [
    {
     "data": {
      "text/plain": [
       "True"
      ]
     },
     "execution_count": 316,
     "metadata": {
      "tags": []
     },
     "output_type": "execute_result"
    }
   ],
   "source": [
    "def grader_dim(b_i,c_j):\n",
    "  assert(len(b_i)==943 and np.sum(b_i)==0)\n",
    "  assert(len(c_j)==1681 and np.sum(c_j)==0)\n",
    "  return True\n",
    "grader_dim(b_i,c_j)"
   ]
  },
  {
   "cell_type": "markdown",
   "metadata": {
    "id": "DTDK4ZR18MrZ"
   },
   "source": [
    "<font color='red'>Compute dL/db_i</font>"
   ]
  },
  {
   "cell_type": "code",
   "execution_count": 317,
   "metadata": {
    "id": "3NFzVC1N8S4L"
   },
   "outputs": [],
   "source": [
    "def derivative_db(user_id,item_id,rating,U,V,mu,alpha):\n",
    "    '''In this function, we will compute dL/db_i'''\n",
    "    db=2*alpha*(b_i[user_id])-2*(rating-mu-b_i[user_id]-c_j[item_id]-np.dot(U[user_id],V[:,item_id].T))\n",
    "    return db\n",
    "     \n"
   ]
  },
  {
   "cell_type": "markdown",
   "metadata": {
    "id": "ilISrTeQ0f0v"
   },
   "source": [
    "<font color='cyan'>Grader function -4 </font>"
   ]
  },
  {
   "cell_type": "code",
   "execution_count": 318,
   "metadata": {
    "colab": {
     "base_uri": "https://localhost:8080/"
    },
    "id": "Wt5ixEVZ043U",
    "outputId": "ccb5cfca-9c6a-4781-d15d-0ddc59639eb8"
   },
   "outputs": [
    {
     "data": {
      "text/plain": [
       "True"
      ]
     },
     "execution_count": 318,
     "metadata": {
      "tags": []
     },
     "output_type": "execute_result"
    }
   ],
   "source": [
    "def grader_db(value):\n",
    "    assert(np.round(value,3)==-0.931)\n",
    "    return True\n",
    "U1, Sigma, V1 = randomized_svd(adjacency_matrix, n_components=2,n_iter=5, random_state=24)\n",
    "# Please don't change random state\n",
    "# Here we are considering n_componets = 2 for our convinence\n",
    "alpha=0.01 \n",
    "value=derivative_db(312,98,4,U1,V1,mu,alpha)\n",
    "grader_db(value)"
   ]
  },
  {
   "cell_type": "markdown",
   "metadata": {
    "id": "1Kp0hC_b9v60"
   },
   "source": [
    "<font color='red'>Compute dL/dc_j</font>"
   ]
  },
  {
   "cell_type": "code",
   "execution_count": 319,
   "metadata": {
    "id": "FAtSYMrc9UqJ"
   },
   "outputs": [],
   "source": [
    "def derivative_dc(user_id,item_id,rating,U,V,mu, alpha):\n",
    "    '''In this function, we will compute dL/dc_j'''\n",
    "    dc=2*alpha*(c_j[item_id])-2*(rating-mu-b_i[user_id]-c_j[item_id]-np.dot(U[user_id],V[:,item_id].T))\n",
    "    return dc\n",
    "     \n"
   ]
  },
  {
   "cell_type": "markdown",
   "metadata": {
    "id": "lxkAm8aH1SBF"
   },
   "source": [
    "<font color='cyan'>Grader function - 5 </font>"
   ]
  },
  {
   "cell_type": "code",
   "execution_count": 320,
   "metadata": {
    "colab": {
     "base_uri": "https://localhost:8080/"
    },
    "id": "RaIN9yie1US8",
    "outputId": "224a2e08-589a-4071-ff3e-d3e82b953e2d"
   },
   "outputs": [
    {
     "data": {
      "text/plain": [
       "True"
      ]
     },
     "execution_count": 320,
     "metadata": {
      "tags": []
     },
     "output_type": "execute_result"
    }
   ],
   "source": [
    "def grader_dc(value):\n",
    "    assert(np.round(value,3)==-2.929)\n",
    "    return True\n",
    "U1, Sigma, V1 = randomized_svd(adjacency_matrix, n_components=2,n_iter=5, random_state=24)\n",
    "# Please don't change random state\n",
    "# Here we are considering n_componets = 2 for our convinence\n",
    "r=0.01 \n",
    "value=derivative_dc(58,504,5,U1,V1,mu,r)\n",
    "grader_dc(value)"
   ]
  },
  {
   "cell_type": "markdown",
   "metadata": {
    "id": "lg5XNbDWCIKI"
   },
   "source": [
    "<font color='red'>Compute MSE (mean squared error) for predicted ratings</font>\n"
   ]
  },
  {
   "cell_type": "markdown",
   "metadata": {
    "id": "7WUjNy0TDQX6"
   },
   "source": [
    "for each epoch, print the MSE value"
   ]
  },
  {
   "cell_type": "markdown",
   "metadata": {
    "id": "D2pCy1AKCafw"
   },
   "source": [
    "<pre>\n",
    "for each epoch:\n",
    "\n",
    "    for each pair of (user, movie):\n",
    "\n",
    "        b_i =  b_i - learning_rate * dL/db_i\n",
    "\n",
    "        c_j =  c_j - learning_rate * dL/dc_j\n",
    "\n",
    "predict the ratings with formula\n",
    "</pre>\n",
    "\n",
    "$\\hat{y}_{ij} = \\mu + b_i + c_j + \\text{dot_product}(u_i , v_j) $"
   ]
  },
  {
   "cell_type": "code",
   "execution_count": 321,
   "metadata": {
    "id": "dWVvJIkAqzRc"
   },
   "outputs": [],
   "source": [
    "#Implementing the SGD to calculate the Mean Square error\n",
    "def train(epochs,alpha,eta0):\n",
    "    ''' In this function, we will implement SGD'''\n",
    "    global MSE\n",
    "    global ypred_ij\n",
    "    # for every epoch\n",
    "    for epoch in range(1,epochs+1):\n",
    "        ypred_ij=[]\n",
    "        MSE=[]\n",
    "\n",
    "        # for each pair of (user, movie):\n",
    "        for ind in data.index:\n",
    "            #compute dL/db_i and dL/dc_j\n",
    "            db=derivative_db(data['user_id'][ind],data['item_id'][ind],data['rating'][ind],U,VT,mu,alpha)\n",
    "            dc=derivative_dc(data['user_id'][ind],data['item_id'][ind],data['rating'][ind],U,VT,mu,alpha)\n",
    "            \n",
    "             #update bias terms b and c\n",
    "            b_i[data['user_id'][ind]]=b_i[data['user_id'][ind]]-eta0*db\n",
    "            c_j[data['item_id'][ind]]=c_j[data['item_id'][ind]]-eta0*dc\n",
    "\n",
    "            # predict the ratings\n",
    "            ypred=(mu+b_i[data['user_id'][ind]]+c_j[data['item_id'][ind]]+np.dot(U[data['user_id'][ind]],VT[:,data['item_id'][ind]].T))\n",
    "            ypred_ij.append(ypred)\n",
    "            mean_Sqerror=np.square(data['rating'][ind]-ypred)\n",
    "            #mserror=mean_squared_error(data['rating'][ind], ypred, squared=True)\n",
    "            MSE.append(mean_Sqerror)  \n",
    "\n",
    "\n",
    "\n",
    "\n",
    "           "
   ]
  },
  {
   "cell_type": "code",
   "execution_count": 322,
   "metadata": {
    "id": "KjyZ2KH1qgVJ"
   },
   "outputs": [],
   "source": [
    "#Calling the train() do retreive MSE and Ypred\n",
    "eta0=0.0001\n",
    "epochs=50\n",
    "\n",
    "#with alpha, eta0 ,N,epochs and dataset let's call the method train()\n",
    "train(epochs,alpha,eta0)\n"
   ]
  },
  {
   "cell_type": "code",
   "execution_count": 323,
   "metadata": {
    "colab": {
     "base_uri": "https://localhost:8080/"
    },
    "id": "igkkO3EvVRt6",
    "outputId": "fd202dd1-9e42-4edd-ee61-93be40776a75"
   },
   "outputs": [
    {
     "name": "stdout",
     "output_type": "stream",
     "text": [
      "----printing 100 values of MSE and Its Predicted Ratings-----\n",
      "==========================================================\n",
      "    MSE                     ||        Predicted Rating\n",
      "==========================================================\n",
      "    0.0498082816370952                 3.223177690724443\n",
      "    1.2347732968430503                 3.888796464709075\n",
      "    0.13063549424697113                 3.63856467487672\n",
      "    0.12864723166098718                 3.6413257304168765\n",
      "    0.9229036412910269                 4.039321260102511\n",
      "    2.6654086391483913                 3.367392074272457\n",
      "    0.0012907916201136528                 3.964072411434753\n",
      "    0.017217738715209013                 3.868783618723846\n",
      "    1.6353718710823921                 3.721183409912746\n",
      "    0.05484316498557987                 2.765813824093778\n",
      "    3.6472185358073626e-06                 2.998090230763729\n",
      "    0.00015043745320660076                 4.012265294664483\n",
      "    0.7464193238533736                 3.1360443739095314\n",
      "    0.04757647242878637                 3.2181203164053875\n",
      "    0.00234685063518899                 3.048444304465943\n",
      "    0.052804067014494555                 3.770208644604514\n",
      "    2.4602905106279516                 3.5685313228074063\n",
      "    0.1306956982256387                 3.6384813998898\n",
      "    0.5720416939177619                 3.7563343797010433\n",
      "    0.00037084425136626586                 2.9807426831732386\n",
      "    1.546965779970915                 3.75622920923069\n",
      "    0.08494077624643402                 3.7085539908551945\n",
      "    0.26924279209058954                 3.481113892948954\n",
      "    0.08252628983785391                 3.7127261065849284\n",
      "    1.1204236696301009                 3.9414993294144303\n",
      "    1.2424671722358753                 4.11466011511845\n",
      "    0.8147720822402342                 4.097352736535343\n",
      "    1.3389917109408265                 3.842851906219076\n",
      "    0.062100286532426434                 3.750800709205611\n",
      "    0.1515755866002835                 3.389327094613621\n",
      "    0.00010217599607981899                 4.010108214287391\n",
      "    7.84196443096924                 3.8003507692732423\n",
      "    1.4677988164037035                 3.78847252759019\n",
      "    0.013487573271195888                 3.1161360119480426\n",
      "    0.027100207522239586                 3.8353785933657485\n",
      "    0.46774938984330905                 2.683922064158855\n",
      "    0.5823420475015325                 3.7631133909855943\n",
      "    0.03456572953773532                 3.814081390017741\n",
      "    0.0029405549339066015                 3.9457731161331706\n",
      "    0.31960556015329067                 4.4346633214152025\n",
      "    0.8357160700383437                 4.085824923749097\n",
      "    0.8085849045509884                 4.100786507801963\n",
      "    0.13330623782208995                 3.6348887322718046\n",
      "    0.6296006413586184                 3.7934737811412664\n",
      "    0.0008243472967958781                 3.0287114488801223\n",
      "    0.38486296413791243                 3.379626754173012\n",
      "    0.4804885578091853                 3.306827180416611\n",
      "    3.642039779587272                 3.091587104532336\n",
      "    0.07157836225895234                 3.732458671867406\n",
      "    0.13472321328017695                 3.3670466091386446\n",
      "    0.3020707821891569                 3.5496096634786882\n",
      "    0.5119969189847978                 3.2844604001281286\n",
      "    0.035350596591886524                 4.188017543308827\n",
      "    2.3970318788841403                 3.4517649148517076\n",
      "    0.7779928308675623                 3.117960981096889\n",
      "    2.816113459326247                 3.3218720372610893\n",
      "    0.9067577136312172                 3.9522382651580523\n",
      "    2.7043536969086093                 3.3555080733221554\n",
      "    0.09462342978475435                 2.3076092160270143\n",
      "    0.28096143764673087                 4.469942043124782\n",
      "    0.26302503776673597                 3.5128596667381204\n",
      "    1.5381455578118859                 4.240219963479014\n",
      "    0.8406424095610905                 3.083134464841714\n",
      "    0.0011466145807953658                 3.0338616978427746\n",
      "    0.0006407918327968911                 3.0253138664134283\n",
      "    0.3932254161327717                 3.37292311784537\n",
      "    0.21105522488605305                 4.540592528482554\n",
      "    4.832296297257519                 3.1982484612203232\n",
      "    0.04277957364690596                 2.793167764487965\n",
      "    0.025944364838699597                 3.83892745473328\n",
      "    2.058758704160336                 3.434837518383296\n",
      "    1.849910618843877                 3.6398858066897923\n",
      "    0.1150069863668175                 3.3391267998357215\n",
      "    0.6120625240615857                 2.7823442490755497\n",
      "    2.007326016598724                 3.4168013327911306\n",
      "    0.04453175218706011                 3.788974522421912\n",
      "    0.43116365268734164                 3.656630529816686\n",
      "    0.7097251304213414                 2.8424518564412695\n",
      "    1.3336272584694142                 3.154827804683198\n",
      "    3.01442283032134                 3.736209327909898\n",
      "    0.2944676893434987                 4.457351228377417\n",
      "    0.4256556919410012                 4.3475770605343484\n",
      "    5.9772648029211295                 3.444844535532092\n",
      "    3.2598073091889668                 3.1945063530466338\n",
      "    1.5035203849472185                 3.773818779728209\n",
      "    0.5432412293890985                 4.262950999329693\n",
      "    0.003072864469526574                 3.055433423757933\n",
      "    0.21371328114400268                 3.4622913379504343\n",
      "    0.6007696248181964                 4.224906699281824\n",
      "    0.2794949093641369                 4.471327219005804\n",
      "    0.012778523944736548                 4.113042133493386\n",
      "    0.08723570234326025                 3.295356906713319\n",
      "    0.6731642832153796                 4.179534106001121\n",
      "    0.0021336282557817246                 2.953808785946008\n",
      "    0.09918302044821826                 3.3149333587415253\n",
      "    0.41150938975219                 2.358510023654157\n",
      "    0.7835144870691968                 3.11483646309329\n",
      "    1.1645158696683218                 2.920872635103566\n",
      "    0.23886724725450306                 3.511259529755819\n",
      "    0.5762943004191285                 3.240859498894224\n"
     ]
    }
   ],
   "source": [
    "print(\"----printing 100 values of MSE and Its Predicted Ratings-----\")\n",
    "print(\"==========================================================\")\n",
    "print(\"    MSE                     ||        Predicted Rating\")\n",
    "print(\"==========================================================\")\n",
    "for ind in range(100):\n",
    "    print(\"   \",MSE[ind],\"               \",ypred_ij[ind])\n"
   ]
  },
  {
   "cell_type": "markdown",
   "metadata": {
    "id": "NeWAGkT6C9kq"
   },
   "source": [
    "<br>"
   ]
  },
  {
   "cell_type": "markdown",
   "metadata": {
    "id": "IP_6xMAZA4mE"
   },
   "source": [
    " # <font color='red'>Task 2 </font>"
   ]
  },
  {
   "cell_type": "markdown",
   "metadata": {
    "id": "-9HCN_3WA2au"
   },
   "source": [
    "As we know U is the learned matrix of user vectors, with its i-th row as the vector ui for user i. Each row of U can be seen as a \"feature vector\" for a particular user.\n",
    "\n",
    "The question we'd like to investigate is this: do our computed per-user features that are optimized for predicting movie ratings contain anything to do with gender?\n",
    "\n",
    "The provided data file <a href='https://drive.google.com/open?id=1PHFdJh_4gIPiLH5Q4UErH8GK71hTrzlY'>user_info.csv</a> contains an is_male column indicating which users in the dataset are male. Can you predict this signal given the features U?\n",
    "\n",
    "\n",
    "> __Note 1__ : there is no train test split in the data, the goal of this assignment is to give an intution about how to do matrix factorization with the help of SGD and application of truncated SVD. for better understanding of the collabarative fillerting please check netflix case study. <br><br>\n",
    "> __Note 2__ : Check if scaling of $U$, $V$ matrices improve the metric "
   ]
  },
  {
   "cell_type": "code",
   "execution_count": 324,
   "metadata": {
    "colab": {
     "base_uri": "https://localhost:8080/"
    },
    "id": "9kl4Ryi_7E_T",
    "outputId": "b600b1c6-2185-4aba-d652-24af5fe96240"
   },
   "outputs": [
    {
     "name": "stdout",
     "output_type": "stream",
     "text": [
      "Printing our Computed User Feautures\n",
      "[[ 0.0662257   0.00788899 -0.0125315 ]\n",
      " [ 0.01364432 -0.04889509  0.05655433]\n",
      " [ 0.00543826 -0.02512771  0.02002764]\n",
      " ...\n",
      " [ 0.00738924 -0.02597382  0.00634306]\n",
      " [ 0.02499924  0.00447781  0.02605724]\n",
      " [ 0.04337341 -0.00281535 -0.06077691]]\n",
      "--------------scaled----------------------\n",
      "[[ 2.04292034  0.24335824 -0.38656983]\n",
      " [ 0.42089782 -1.5083084   1.74457945]\n",
      " [ 0.16775865 -0.77513587  0.61780949]\n",
      " ...\n",
      " [ 0.22794226 -0.80123652  0.19566971]\n",
      " [ 0.77117269  0.13813072  0.80380961]\n",
      " [ 1.33797634 -0.08684751 -1.87483668]]\n"
     ]
    }
   ],
   "source": [
    "print(\"Printing our Computed User Feautures\")\n",
    "print(U)\n",
    "#scaling the Matrix\n",
    "abs_max = np.amax(np.abs(U))\n",
    "U_scaled = U * (4.0 / abs_max)\n",
    "print(\"--------------scaled----------------------\")\n",
    "print(U_scaled)\n"
   ]
  },
  {
   "cell_type": "code",
   "execution_count": 325,
   "metadata": {
    "colab": {
     "base_uri": "https://localhost:8080/"
    },
    "id": "UItjq9kgm9ix",
    "outputId": "0a785536-6bdb-4cc9-966f-581e3c34c6ba"
   },
   "outputs": [
    {
     "name": "stdout",
     "output_type": "stream",
     "text": [
      "-------User Info Table-------------\n",
      "   user_id  age  is_male  orig_user_id\n",
      "0        0   24        1             1\n",
      "1        1   53        0             2\n",
      "2        2   23        1             3\n",
      "3        3   24        1             4\n",
      "4        4   33        0             5\n"
     ]
    }
   ],
   "source": [
    "print(\"-------User Info Table-------------\")\n",
    "print(user_info.head(5))\n"
   ]
  },
  {
   "cell_type": "code",
   "execution_count": 326,
   "metadata": {
    "colab": {
     "base_uri": "https://localhost:8080/"
    },
    "id": "9mmJ-tJFnMCm",
    "outputId": "99bcfb5b-e2e1-4bc8-f1ab-723a02603bfb"
   },
   "outputs": [
    {
     "name": "stdout",
     "output_type": "stream",
     "text": [
      "1    670\n",
      "0    273\n",
      "Name: is_male, dtype: int64\n"
     ]
    }
   ],
   "source": [
    "#checking the number of unique values in is_Male column\n",
    "print(user_info['is_male'].value_counts())\n"
   ]
  },
  {
   "cell_type": "code",
   "execution_count": 327,
   "metadata": {
    "colab": {
     "base_uri": "https://localhost:8080/"
    },
    "id": "yZO53wNGysmI",
    "outputId": "08379088-8dea-4a24-dd3a-405031f4ecbf"
   },
   "outputs": [
    {
     "name": "stdout",
     "output_type": "stream",
     "text": [
      "943\n",
      "[1 0 1 1 0 1 1 1 1 1 0 0 1 1 0 1 1 0 1 0 1 1 0 0 1 1 0 1 1 1 1 0 1 0 0 0 1\n",
      " 0 1 1 1 1 0 1 1 0 1 1 0 1 1 0 1 1 1 1 1 1 1 1 1 0 1 1 0 1 1 1 1 1 1 0 1 1\n",
      " 1 1 1 1 0 0 1 1 1 1 1 1 1 0 0 1 1 1 1 1 1 0 1 0 1 1 1 1 1 1 1 1 1 1 1 1 1\n",
      " 1 1 1 1 1 1 1 1 0 1 0 0 1 1 0 1 0 0 1 0 1 1 1 1 1 1 1 1 0 1 1 1 1 1 1 0 1\n",
      " 0 0 0 0 1 1 0 1 1 1 0 1 1 1 1 1 0 1 1 1 0 0 0 1 1 0 0 1 1 1 1 0 1 1 1 1 0\n",
      " 0 1 1 1 1 1 1 1 1 1 1 1 0 1 1 1 0 0 0 1 0 1 1 0 1 1 0 1 0 1 1 1 1 1 1 1 1\n",
      " 0 0 0 1 1 0 0 0 1 1 1 1 1 0 1 0 1 0 0 1 1 1 1 1 1 1 1 1 1 1 0 1 1 0 1 0 1\n",
      " 0 1 0 1 0 1 0 1 1 0 0 1 1 0 0 1 1 0 0 1 0 0 1 1 1 1 1 1 1 1 1 1 0 1 1 1 0\n",
      " 0 1 1 0 1 1 1 0 1 1 1 1 1 1 1 1 1 0 1 0 1 1 1 1 0 1 1 0 1 1 1 1 1 0 1 1 1\n",
      " 1 1 1 1 0 1 1 0 0 1 0 0 1 1 0 1 1 1 0 1 0 1 0 1 1 1 1 1 0 1 1 1 0 1 1 1 1\n",
      " 1 0 0 1 1 0 1 1 1 1 1 1 1 1 1 1 1 1 0 0 1 1 1 1 1 1 1 1 1 0 0 1 1 0 0 1 1\n",
      " 1 1 0 1 1 1 1 1 0 0 0 1 1 0 1 1 0 1 1 1 1 1 1 1 1 1 0 1 0 0 0 0 1 1 1 1 0\n",
      " 1 1 1 1 1 0 1 1 1 1 1 1 0 1 1 0 1 0 0 1 1 1 1 1 1 1 1 1 1 1 1 1 0 1 1 1 1\n",
      " 0 1 1 0 1 1 1 1 0 0 1 1 0 1 0 1 1 1 1 1 1 0 0 0 1 0 1 1 1 1 1 1 1 1 0 1 0\n",
      " 1 1 1 1 0 1 0 1 1 1 0 1 0 1 1 1 0 1 1 1 0 1 0 1 1 0 1 1 1 1 1 0 1 1 1 1 0\n",
      " 0 0 0 1 1 1 0 0 1 1 1 1 1 1 1 1 1 1 1 1 1 0 1 1 1 1 1 1 1 1 1 1 0 1 1 0 1\n",
      " 0 1 1 1 1 0 0 1 0 0 1 1 1 1 0 1 0 1 1 1 0 1 1 1 0 0 1 0 1 1 0 1 1 1 1 1 0\n",
      " 0 0 1 1 1 1 1 1 1 0 1 1 0 1 1 1 0 1 1 1 1 1 1 1 0 0 1 0 1 1 1 1 1 1 1 1 1\n",
      " 1 0 1 1 1 0 1 0 1 1 1 1 0 1 0 1 1 1 0 1 0 0 1 1 1 1 0 1 1 1 1 0 1 1 0 1 1\n",
      " 0 0 1 0 0 1 1 0 0 0 1 1 0 1 1 0 0 0 0 1 1 1 0 1 1 1 0 0 0 0 0 0 0 1 1 1 0\n",
      " 1 1 1 1 1 1 1 1 1 1 0 1 1 0 0 0 1 1 0 0 1 1 1 0 1 1 1 1 1 1 1 1 1 1 1 1 1\n",
      " 1 1 1 1 0 1 1 1 0 0 1 1 1 1 1 1 1 1 0 0 0 0 1 1 1 1 1 0 1 0 1 0 0 0 1 0 1\n",
      " 1 1 1 1 1 1 1 0 1 1 1 1 0 1 1 1 1 1 1 1 0 1 0 1 0 1 1 1 1 1 1 1 1 1 0 1 1\n",
      " 1 1 0 1 0 0 1 0 0 0 1 1 1 1 1 1 1 1 1 1 0 0 1 0 1 1 0 0 1 1 1 1 1 0 1 0 1\n",
      " 1 1 0 1 1 1 0 1 1 1 1 1 1 0 1 0 1 1 0 0 0 1 0 1 1 0 1 1 0 1 1 0 0 0 1 1 0\n",
      " 1 1 1 1 0 1 1 1 1 1 1 1 0 0 1 1 0 1]\n"
     ]
    }
   ],
   "source": [
    "#separating the Is_male column from the UserInfo Table and dropping it\n",
    "is_male_list=[]\n",
    "\n",
    "is_male_list = user_info['is_male'].values\n",
    "user_info.drop('is_male', axis='columns', inplace=True)\n",
    "\n",
    "print(len(is_male_list))\n",
    "print(is_male_list)"
   ]
  },
  {
   "cell_type": "code",
   "execution_count": 328,
   "metadata": {
    "colab": {
     "base_uri": "https://localhost:8080/"
    },
    "id": "Wyi1aUl6IfCE",
    "outputId": "c3162c87-30b4-46b0-8c06-0387e7807aae"
   },
   "outputs": [
    {
     "name": "stdout",
     "output_type": "stream",
     "text": [
      "0 273 0 670\n"
     ]
    },
    {
     "data": {
      "text/plain": [
       "array([[  0, 273],\n",
       "       [  0, 670]])"
      ]
     },
     "execution_count": 328,
     "metadata": {
      "tags": []
     },
     "output_type": "execute_result"
    }
   ],
   "source": [
    "#Building the Model with Logistic Regression,Binary classification to predict the User is Male or Not\n",
    "clf = LogisticRegression(random_state=0).fit(user_info, is_male_list)\n",
    "\n",
    "#Testing,how good our predicted User matrix U from SVD can predict the Movie Ratings\n",
    "is_male_pred=clf.predict(U_scaled)\n",
    "\n",
    "# Retreiving the all required TN,Fp,FN,Tp from the confusion Matrix\n",
    "tn, fp, fn, tp = confusion_matrix(is_male_list,is_male_pred ).ravel()\n",
    "print(tn, fp, fn, tp)\n",
    "\n",
    "confusion_matrix(is_male_list, is_male_pred)\n"
   ]
  },
  {
   "cell_type": "code",
   "execution_count": 329,
   "metadata": {
    "colab": {
     "base_uri": "https://localhost:8080/",
     "height": 290
    },
    "id": "8jjgdetwcJ1g",
    "outputId": "ee1a6a34-26b0-472d-828b-708d7e130ff4"
   },
   "outputs": [
    {
     "data": {
      "text/plain": [
       "<matplotlib.axes._subplots.AxesSubplot at 0x7f7d41e1dd90>"
      ]
     },
     "execution_count": 329,
     "metadata": {
      "tags": []
     },
     "output_type": "execute_result"
    },
    {
     "data": {
      "image/png": "[encoded data removed]",
      "text/plain": [
       "<Figure size 432x288 with 1 Axes>"
      ]
     },
     "metadata": {
      "tags": []
     },
     "output_type": "display_data"
    }
   ],
   "source": [
    "#Plotting the ConfusionMatrix \n",
    "confusion_matrix_IsMale= confusion_matrix(is_male_list, is_male_pred)\n",
    "\n",
    "# Representing Confusion Matrix in HeatMaps-https://medium.com/@dtuk81/confusion-matrix-visualization-fc31e3f30fea\n",
    "group_names = ['TN','FP','FN','TP']\n",
    "group_counts = [\"{0:0.0f}\".format(value) for value in confusion_matrix_IsMale.flatten()]\n",
    "labels = [f\"{v1}\\n{v2}\" for v1, v2 in zip(group_names,group_counts)]\n",
    "labels = np.asarray(labels).reshape(2,2)\n",
    "sns.set(font_scale=1.4)#for label size\n",
    "sns.heatmap(confusion_matrix_IsMale, annot=labels,cbar=False, fmt='',cmap='Set3')"
   ]
  },
  {
   "cell_type": "markdown",
   "metadata": {
    "id": "mR4ztLZ0l8wP"
   },
   "source": [
    "**Observations**:\n",
    "\n",
    "1)In this Binary Classification,all the Negatives are showing up as Positives only.\n",
    "\n",
    "2)All the True Negatives showed up as False Positives\n",
    "\n",
    "3)The data regarding Positives is predicted Properly\n",
    "\n",
    " But,Since there is improper prediction as atleast 1 neagtive is not shown,So our predicted UserMatrix is not predicting the Is_Male "
   ]
  },
  {
   "cell_type": "code",
   "execution_count": null,
   "metadata": {},
   "outputs": [],
   "source": []
  },
  {
   "cell_type": "code",
   "execution_count": null,
   "metadata": {},
   "outputs": [],
   "source": []
  },
  {
   "cell_type": "code",
   "execution_count": null,
   "metadata": {},
   "outputs": [],
   "source": []
  },
  {
   "cell_type": "code",
   "execution_count": null,
   "metadata": {},
   "outputs": [],
   "source": []
  },
  {
   "cell_type": "code",
   "execution_count": null,
   "metadata": {},
   "outputs": [],
   "source": []
  },
  {
   "cell_type": "code",
   "execution_count": null,
   "metadata": {},
   "outputs": [],
   "source": []
  },
  {
   "cell_type": "code",
   "execution_count": null,
   "metadata": {},
   "outputs": [],
   "source": []
  },
  {
   "cell_type": "code",
   "execution_count": null,
   "metadata": {},
   "outputs": [],
   "source": []
  },
  {
   "cell_type": "code",
   "execution_count": null,
   "metadata": {},
   "outputs": [],
   "source": []
  },
  {
   "cell_type": "code",
   "execution_count": null,
   "metadata": {},
   "outputs": [],
   "source": []
  },
  {
   "cell_type": "code",
   "execution_count": null,
   "metadata": {},
   "outputs": [],
   "source": []
  },
  {
   "cell_type": "code",
   "execution_count": null,
   "metadata": {},
   "outputs": [],
   "source": []
  },
  {
   "cell_type": "code",
   "execution_count": null,
   "metadata": {},
   "outputs": [],
   "source": []
  },
  {
   "cell_type": "code",
   "execution_count": null,
   "metadata": {},
   "outputs": [],
   "source": []
  },
  {
   "cell_type": "code",
   "execution_count": null,
   "metadata": {},
   "outputs": [],
   "source": []
  },
  {
   "cell_type": "code",
   "execution_count": null,
   "metadata": {},
   "outputs": [],
   "source": []
  },
  {
   "cell_type": "code",
   "execution_count": null,
   "metadata": {},
   "outputs": [],
   "source": []
  },
  {
   "cell_type": "code",
   "execution_count": null,
   "metadata": {},
   "outputs": [],
   "source": []
  },
  {
   "cell_type": "code",
   "execution_count": null,
   "metadata": {},
   "outputs": [],
   "source": []
  },
  {
   "cell_type": "code",
   "execution_count": null,
   "metadata": {},
   "outputs": [],
   "source": []
  },
  {
   "cell_type": "code",
   "execution_count": null,
   "metadata": {},
   "outputs": [],
   "source": []
  },
  {
   "cell_type": "code",
   "execution_count": null,
   "metadata": {},
   "outputs": [],
   "source": []
  },
  {
   "cell_type": "code",
   "execution_count": null,
   "metadata": {},
   "outputs": [],
   "source": []
  },
  {
   "cell_type": "code",
   "execution_count": null,
   "metadata": {},
   "outputs": [],
   "source": []
  },
  {
   "cell_type": "code",
   "execution_count": null,
   "metadata": {},
   "outputs": [],
   "source": []
  },
  {
   "cell_type": "code",
   "execution_count": null,
   "metadata": {},
   "outputs": [],
   "source": []
  },
  {
   "cell_type": "code",
   "execution_count": null,
   "metadata": {},
   "outputs": [],
   "source": []
  },
  {
   "cell_type": "code",
   "execution_count": null,
   "metadata": {},
   "outputs": [],
   "source": []
  },
  {
   "cell_type": "code",
   "execution_count": null,
   "metadata": {},
   "outputs": [],
   "source": []
  },
  {
   "cell_type": "code",
   "execution_count": null,
   "metadata": {},
   "outputs": [],
   "source": []
  },
  {
   "cell_type": "code",
   "execution_count": null,
   "metadata": {},
   "outputs": [],
   "source": []
  },
  {
   "cell_type": "code",
   "execution_count": null,
   "metadata": {},
   "outputs": [],
   "source": []
  },
  {
   "cell_type": "code",
   "execution_count": null,
   "metadata": {},
   "outputs": [],
   "source": []
  },
  {
   "cell_type": "code",
   "execution_count": null,
   "metadata": {},
   "outputs": [],
   "source": []
  },
  {
   "cell_type": "code",
   "execution_count": null,
   "metadata": {},
   "outputs": [],
   "source": []
  },
  {
   "cell_type": "code",
   "execution_count": null,
   "metadata": {},
   "outputs": [],
   "source": []
  },
  {
   "cell_type": "code",
   "execution_count": null,
   "metadata": {},
   "outputs": [],
   "source": []
  },
  {
   "cell_type": "code",
   "execution_count": null,
   "metadata": {},
   "outputs": [],
   "source": []
  },
  {
   "cell_type": "code",
   "execution_count": null,
   "metadata": {},
   "outputs": [],
   "source": []
  },
  {
   "cell_type": "code",
   "execution_count": null,
   "metadata": {},
   "outputs": [],
   "source": []
  },
  {
   "cell_type": "code",
   "execution_count": null,
   "metadata": {},
   "outputs": [],
   "source": []
  },
  {
   "cell_type": "code",
   "execution_count": null,
   "metadata": {},
   "outputs": [],
   "source": []
  }
 ],
 "metadata": {
  "colab": {
   "collapsed_sections": [],
   "name": "Recommendation_system_assignment-Copy1.ipynb",
   "provenance": []
  },
  "kernelspec": {
   "display_name": "Python 3",
   "language": "python",
   "name": "python3"
  },
  "language_info": {
   "codemirror_mode": {
    "name": "ipython",
    "version": 3
   },
   "file_extension": ".py",
   "mimetype": "text/x-python",
   "name": "python",
   "nbconvert_exporter": "python",
   "pygments_lexer": "ipython3",
   "version": "3.7.7"
  }
 },
 "nbformat": 4,
 "nbformat_minor": 1
}
